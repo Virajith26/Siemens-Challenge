{
  "cells": [
    {
      "cell_type": "code",
      "execution_count": null,
      "metadata": {
        "colab": {
          "background_save": true
        },
        "id": "A2haFKtUd5PL"
      },
      "outputs": [],
      "source": [
        "import pandas as pd\n",
        "import numpy as np\n",
        "import sklearn as skl\n",
        "from sklearn.model_selection import train_test_split\n",
        "from sklearn.linear_model import LinearRegression\n",
        "from sklearn.svm import SVR\n",
        "from sklearn.metrics import accuracy_score, classification_report, mean_squared_error, mean_absolute_error\n",
        "from sklearn.preprocessing import StandardScaler\n",
        "#from tensorflow import keras\n",
        "#from tensorflow.keras import layers\n",
        "import matplotlib.pyplot as plt \n",
        "#%matplotlib inline\n",
        "#import seaborn as sns"
      ]
    },
    {
      "cell_type": "markdown",
      "metadata": {
        "id": "ynSsfcun60BK"
      },
      "source": [
        "\n",
        "\n",
        "---\n",
        "\n",
        "**Pull the datasets**\n",
        "\n",
        "---\n",
        "\n"
      ]
    },
    {
      "cell_type": "code",
      "execution_count": null,
      "metadata": {
        "id": "G_udoEnneMVJ"
      },
      "outputs": [],
      "source": [
        "df1 = pd.read_excel(\"Smartphone_bill.xlsx\")\n",
        "#print(df1.head())\n",
        "df2 = pd.read_excel(\"Smartphone_bill2.xlsx\")\n",
        "#print(df2.head())"
      ]
    },
    {
      "cell_type": "code",
      "execution_count": null,
      "metadata": {
        "id": "m6o3uYhPdtrx"
      },
      "outputs": [],
      "source": [
        "df1"
      ]
    },
    {
      "cell_type": "code",
      "execution_count": null,
      "metadata": {
        "id": "HiH_dkRFdwLO"
      },
      "outputs": [],
      "source": [
        "df2"
      ]
    },
    {
      "cell_type": "markdown",
      "metadata": {
        "id": "riL2caD08I5a"
      },
      "source": [
        "\n",
        "\n",
        "---\n",
        "\n",
        "**Data Pre-processing**\n",
        "\n",
        "---\n",
        "\n"
      ]
    },
    {
      "cell_type": "code",
      "execution_count": null,
      "metadata": {
        "id": "FQSAquD_QbIL"
      },
      "outputs": [],
      "source": [
        "df1 = df1.iloc[4:16,:]\n",
        "\n",
        "df2 = df2.iloc[4:13,:]"
      ]
    },
    {
      "cell_type": "code",
      "execution_count": null,
      "metadata": {
        "id": "DoF3HAstz2s_"
      },
      "outputs": [],
      "source": [
        "#df1\n",
        "#df2"
      ]
    },
    {
      "cell_type": "code",
      "execution_count": null,
      "metadata": {
        "id": "Z_X1_PX4Peam"
      },
      "outputs": [],
      "source": [
        "df1.rename(columns={\"Unnamed: 1\":\"Aluminum\",\"Unnamed: 2\":\"Copper\",\"Unnamed: 3\":\"Steel\",\"Unnamed: 4\":\"Plastic\",\"Unnamed: 5\":\"Li-ion battery\",\"Unnamed: 6\":\"PCB\",\"Unnamed: 7\":\"Flat panel glass\",\"Unnamed: 8\":\"M8\",\"Unnamed: 9\":\"M9\",\"Unnamed: 10\":\"M8\",\"Unnamed: 11\":\"M8\"},inplace=True,)\n",
        "df1"
      ]
    },
    {
      "cell_type": "code",
      "execution_count": null,
      "metadata": {
        "id": "VeEegXA4eLZq"
      },
      "outputs": [],
      "source": [
        "df2.rename(columns={\"Unnamed: 1\":\"Aluminum\",\"Unnamed: 2\":\"Copper\",\"Unnamed: 3\":\"Steel\",\"Unnamed: 4\":\"Plastic\",\"Unnamed: 5\":\"Li-ion battery\",\"Unnamed: 6\":\"PCB\",\"Unnamed: 7\":\"Flat panel glass\",\"Unnamed: 8\":\"M8\",\"Unnamed: 9\":\"M9\",\"Unnamed: 10\":\"M8\",\"Unnamed: 11\":\"M8\"},inplace=True,)\n",
        "df2"
      ]
    },
    {
      "cell_type": "code",
      "execution_count": null,
      "metadata": {
        "id": "xutk6LjBP7yQ"
      },
      "outputs": [],
      "source": [
        "df1 = df1.drop(['M8','M9','Unnamed: 12','Unnamed: 13'],axis=1)\n",
        "df2 = df2.drop(['M8','M9','Unnamed: 12','Unnamed: 13'],axis=1)\n"
      ]
    },
    {
      "cell_type": "code",
      "execution_count": null,
      "metadata": {
        "id": "MTEx0WWZ0JS4"
      },
      "outputs": [],
      "source": [
        "#df1\n",
        "#dr2"
      ]
    },
    {
      "cell_type": "code",
      "execution_count": null,
      "metadata": {
        "id": "_NVF5VBwQYHz"
      },
      "outputs": [],
      "source": [
        "df1 = df1.drop(['Data from laboratory disassembly'], axis=1)\n",
        "df2 = df2.drop(['Data from laboratory disassembly'], axis=1)\n"
      ]
    },
    {
      "cell_type": "code",
      "execution_count": null,
      "metadata": {
        "id": "ddwh7Q4tedMp"
      },
      "outputs": [],
      "source": [
        "#df1\n",
        "#df2"
      ]
    },
    {
      "cell_type": "code",
      "execution_count": null,
      "metadata": {
        "id": "fBBvw8lrQsPR"
      },
      "outputs": [],
      "source": [
        "df1 = df1.reset_index()\n",
        "df1 = df1.drop(['index'],axis=1)\n",
        "df1"
      ]
    },
    {
      "cell_type": "code",
      "execution_count": null,
      "metadata": {
        "id": "mTkwmx0GejYy"
      },
      "outputs": [],
      "source": [
        "df2 = df2.reset_index()\n",
        "df2 = df2.drop(['index'],axis=1)\n",
        "df2"
      ]
    },
    {
      "cell_type": "code",
      "execution_count": null,
      "metadata": {
        "id": "iXLIqXBJenR0"
      },
      "outputs": [],
      "source": [
        "df = pd.concat([df1,df2])\n",
        "df = df.reset_index()\n",
        "df = df.drop(['index'],axis=1)\n",
        "df"
      ]
    },
    {
      "cell_type": "markdown",
      "metadata": {
        "id": "cx8IgaBR8WKW"
      },
      "source": [
        "\n",
        "\n",
        "---\n",
        "\n",
        "**Know more about the dataset**\n",
        "\n",
        "---\n",
        "\n"
      ]
    },
    {
      "cell_type": "code",
      "execution_count": null,
      "metadata": {
        "id": "z-QQw5KsaB3o"
      },
      "outputs": [],
      "source": [
        "print(df.info())\n",
        "print(df.describe())"
      ]
    },
    {
      "cell_type": "markdown",
      "metadata": {
        "id": "puu2SSpUXzPb"
      },
      "source": [
        "\n",
        "\n",
        "---\n",
        "\n",
        "**Change object format to float64**\n",
        "\n",
        "\n",
        "---\n",
        "\n"
      ]
    },
    {
      "cell_type": "code",
      "execution_count": null,
      "metadata": {
        "id": "vImyPtSnX1P7"
      },
      "outputs": [],
      "source": [
        "df[['Aluminum','Copper','Steel','Plastic','Li-ion battery','PCB','Flat panel glass']] = df[['Aluminum','Copper','Steel','Plastic',\n",
        "                                                                                            'Li-ion battery','PCB','Flat panel glass']].astype(str).astype(float)\n",
        "df.info()"
      ]
    },
    {
      "cell_type": "markdown",
      "metadata": {
        "id": "vlU9SKPrYPlT"
      },
      "source": [
        "\n",
        "\n",
        "---\n",
        "\n",
        "**Add the target values to the dataset**\n",
        "\n",
        "\n",
        "---\n",
        "\n"
      ]
    },
    {
      "cell_type": "code",
      "execution_count": null,
      "metadata": {
        "id": "lP5lRVLqOv6n"
      },
      "outputs": [],
      "source": [
        "a = df.values.tolist()\n",
        "a[11]"
      ]
    },
    {
      "cell_type": "code",
      "execution_count": null,
      "metadata": {
        "id": "NtRXJCTGQgKs"
      },
      "outputs": [],
      "source": [
        "CO2_e = [0.01124,0.000958,0.00689,0.00301,0.00723,0.471,0.00121] #Al #Cu #Steel #Plastic #Li-ion #PCB #Glass \n",
        "CO2_Scores = []\n",
        "i = list(df.index.values)\n",
        "for j in i:\n",
        "  temp =0\n",
        "  for k in range(0,7):\n",
        "    temp = temp + (CO2_e[k]*a[j][k])\n",
        "  CO2_Scores.append(temp + 1.786)#+20+15+5+2)\n",
        "\n",
        "print(CO2_Scores)"
      ]
    },
    {
      "cell_type": "markdown",
      "metadata": {
        "id": "6Cg7Psp19SRo"
      },
      "source": [
        "\n",
        "\n",
        "---\n",
        "\n",
        "**Final Dataset**\n",
        "\n",
        "---\n",
        "\n"
      ]
    },
    {
      "cell_type": "code",
      "execution_count": null,
      "metadata": {
        "id": "xX9nUZ1mqyVQ"
      },
      "outputs": [],
      "source": [
        "df['CO2'] = CO2_Scores\n",
        "df"
      ]
    },
    {
      "cell_type": "markdown",
      "metadata": {
        "id": "FEUOVFoTYlGK"
      },
      "source": [
        "\n",
        "\n",
        "---\n",
        "\n",
        "**Knowing more about the dataset**\n",
        "\n",
        "---\n",
        "\n"
      ]
    },
    {
      "cell_type": "code",
      "execution_count": null,
      "metadata": {
        "id": "G00yhfc_SSBq"
      },
      "outputs": [],
      "source": [
        "print(df.describe(include='all'))\n"
      ]
    },
    {
      "cell_type": "code",
      "execution_count": null,
      "metadata": {
        "id": "yxY4g-3y_imT"
      },
      "outputs": [],
      "source": [
        "'''\n",
        "ss_df = StandardScaler()\n",
        "df = ss_df.fit_transform(df)\n",
        "df\n",
        "'''"
      ]
    },
    {
      "cell_type": "markdown",
      "metadata": {
        "id": "NwYOgSVosQJU"
      },
      "source": [
        "\n",
        "\n",
        "---\n",
        "\n",
        "X and Y split\n",
        "\n",
        "\n",
        "---\n",
        "\n"
      ]
    },
    {
      "cell_type": "code",
      "execution_count": null,
      "metadata": {
        "id": "aqXQYRBelz9p"
      },
      "outputs": [],
      "source": [
        "ss_X = StandardScaler()\n",
        "ss_y = StandardScaler()"
      ]
    },
    {
      "cell_type": "code",
      "execution_count": null,
      "metadata": {
        "id": "AtsmuqgMA5yF"
      },
      "outputs": [],
      "source": [
        "\n",
        "'''\n",
        "ee = pd.DataFrame(df.iloc[:,'CO2'])\n",
        "ss_e = StandardScaler()\n",
        "ee = ss_e.fit_transform(ee)\n",
        "ee\n",
        "'''"
      ]
    },
    {
      "cell_type": "code",
      "execution_count": null,
      "metadata": {
        "id": "Z2XGCpfMl7cE"
      },
      "outputs": [],
      "source": [
        "#y = pd.DataFrame(df.iloc[:,-1])\n",
        "#y = ss_y.fit_transform(y)\n",
        "#y"
      ]
    },
    {
      "cell_type": "code",
      "execution_count": null,
      "metadata": {
        "id": "NUTtMtx4NcN-"
      },
      "outputs": [],
      "source": [
        "y = df.CO2\n",
        "y"
      ]
    },
    {
      "cell_type": "code",
      "execution_count": null,
      "metadata": {
        "id": "61IVzAyimHsN"
      },
      "outputs": [],
      "source": [
        "#X = ss_X.fit_transform(X)\n",
        "#X"
      ]
    },
    {
      "cell_type": "code",
      "execution_count": null,
      "metadata": {
        "id": "mnlp_X_TQsHm"
      },
      "outputs": [],
      "source": [
        "X = df[['Aluminum', 'Copper', 'Steel', 'Plastic', 'Li-ion battery', 'PCB','Flat panel glass']]\n",
        "X"
      ]
    },
    {
      "cell_type": "markdown",
      "metadata": {
        "id": "V1Fr8XZdY96f"
      },
      "source": [
        "\n",
        "\n",
        "---\n",
        "\n",
        "**Splitting the dataset into train-test sets**\n",
        "\n",
        "---\n",
        "\n"
      ]
    },
    {
      "cell_type": "code",
      "execution_count": null,
      "metadata": {
        "id": "mHUlYe-gQsDt"
      },
      "outputs": [],
      "source": [
        "X_train,X_test,y_train,y_test = train_test_split(X,y,test_size = 0.15)"
      ]
    },
    {
      "cell_type": "code",
      "execution_count": null,
      "metadata": {
        "id": "wfhZIKC-QsBn"
      },
      "outputs": [],
      "source": [
        "X_train"
      ]
    },
    {
      "cell_type": "code",
      "execution_count": null,
      "metadata": {
        "id": "FNGJJG7LfUAs"
      },
      "outputs": [],
      "source": [
        "X_train.shape"
      ]
    },
    {
      "cell_type": "code",
      "execution_count": null,
      "metadata": {
        "id": "maKjmLbXQr_U"
      },
      "outputs": [],
      "source": [
        "X_test"
      ]
    },
    {
      "cell_type": "code",
      "execution_count": null,
      "metadata": {
        "id": "44XM1D2nQr8-"
      },
      "outputs": [],
      "source": [
        "y_train"
      ]
    },
    {
      "cell_type": "code",
      "execution_count": null,
      "metadata": {
        "id": "w8Cc2wIyfiks"
      },
      "outputs": [],
      "source": [
        "y_train.shape"
      ]
    },
    {
      "cell_type": "code",
      "execution_count": null,
      "metadata": {
        "id": "YP8jWWRSQr6g"
      },
      "outputs": [],
      "source": [
        "y_test"
      ]
    },
    {
      "cell_type": "markdown",
      "metadata": {
        "id": "h0bU0vDW92H0"
      },
      "source": [
        "\n",
        "\n",
        "---\n",
        "\n",
        "**Normalizing the training data**\n",
        "\n",
        "---\n",
        "\n"
      ]
    },
    {
      "cell_type": "code",
      "execution_count": null,
      "metadata": {
        "id": "gXwx9TKJ-AZm"
      },
      "outputs": [],
      "source": [
        "'''\n",
        "ss_X = StandardScaler()\n",
        "ss_y = StandardScaler()\n",
        "X_train = ss_X.fit_transform(X_train)\n",
        "y_train = ss_y.fit_transform(y_train)\n",
        "'''\n",
        "#Since y_train is 1D it's showing error "
      ]
    },
    {
      "cell_type": "markdown",
      "metadata": {
        "id": "IRJ0aNh4ZMlT"
      },
      "source": [
        "\n",
        "\n",
        "---\n",
        "\n",
        "**Model Creation**\n",
        "\n",
        "---\n",
        "\n"
      ]
    },
    {
      "cell_type": "code",
      "execution_count": null,
      "metadata": {
        "id": "f6xqRi99hyEi"
      },
      "outputs": [],
      "source": [
        "m = LinearRegression()"
      ]
    },
    {
      "cell_type": "code",
      "execution_count": null,
      "metadata": {
        "id": "ng5RojfQB9Eb"
      },
      "outputs": [],
      "source": [
        "m2 = SVR(kernel='rbf')"
      ]
    },
    {
      "cell_type": "code",
      "execution_count": null,
      "metadata": {
        "id": "lT5wFk95hx-m"
      },
      "outputs": [],
      "source": [
        "m.fit(X_train,y_train)"
      ]
    },
    {
      "cell_type": "code",
      "execution_count": null,
      "metadata": {
        "id": "PR7hFWp3CBje"
      },
      "outputs": [],
      "source": [
        "m2.fit(X_train,y_train)"
      ]
    },
    {
      "cell_type": "code",
      "execution_count": null,
      "metadata": {
        "id": "9PbY6sUdhx7r"
      },
      "outputs": [],
      "source": [
        "y_pred = m.predict(X_test)\n",
        "y_pred"
      ]
    },
    {
      "cell_type": "code",
      "execution_count": null,
      "metadata": {
        "id": "M52JWd3PDFHN"
      },
      "outputs": [],
      "source": [
        "y_pred2 = m2.predict(X_test)\n",
        "y_pred2"
      ]
    },
    {
      "cell_type": "code",
      "execution_count": null,
      "metadata": {
        "id": "H5g-YiGqOOjp"
      },
      "outputs": [],
      "source": [
        "final_y_pred = (y_pred+y_pred2)/2\n",
        "final_y_pred"
      ]
    },
    {
      "cell_type": "code",
      "execution_count": null,
      "metadata": {
        "id": "Mt_yBMLDnmzd"
      },
      "outputs": [],
      "source": []
    },
    {
      "cell_type": "markdown",
      "metadata": {
        "id": "4hqDdahwqJew"
      },
      "source": [
        "\n",
        "\n",
        "---\n",
        "\n",
        "Performance Metrics\n",
        "\n",
        "---\n",
        "\n"
      ]
    },
    {
      "cell_type": "code",
      "execution_count": null,
      "metadata": {
        "id": "P_b9G1GyjFnj"
      },
      "outputs": [],
      "source": [
        "#mean_squared_error(y_test,y_pred)"
      ]
    },
    {
      "cell_type": "code",
      "execution_count": null,
      "metadata": {
        "id": "4j2EKngpDd2A"
      },
      "outputs": [],
      "source": [
        "#mean_squared_error(y_test,y_pred2)"
      ]
    },
    {
      "cell_type": "code",
      "execution_count": null,
      "metadata": {
        "id": "SNZ3GDHrZdkc"
      },
      "outputs": [],
      "source": [
        "#mean_absolute_error(y_test,y_pred)"
      ]
    },
    {
      "cell_type": "code",
      "execution_count": null,
      "metadata": {
        "id": "E4GPDY3UDl5y"
      },
      "outputs": [],
      "source": [
        "#mean_absolute_error(y_test,y_pred2)"
      ]
    },
    {
      "cell_type": "code",
      "execution_count": null,
      "metadata": {
        "id": "oVmf5zljOewB"
      },
      "outputs": [],
      "source": [
        "mean_squared_error(y_test,final_y_pred) #MSE"
      ]
    },
    {
      "cell_type": "code",
      "execution_count": null,
      "metadata": {
        "id": "jgF-T0fnOm-j"
      },
      "outputs": [],
      "source": [
        "mean_absolute_error(y_test,final_y_pred)"
      ]
    },
    {
      "cell_type": "code",
      "execution_count": null,
      "metadata": {
        "id": "gVXwVRub25QR"
      },
      "outputs": [],
      "source": [
        "mean_squared_error(y_test, final_y_pred, squared=False) #returns RMSE"
      ]
    },
    {
      "cell_type": "code",
      "execution_count": null,
      "metadata": {
        "id": "ij3a0dHKJpgA"
      },
      "outputs": [],
      "source": [
        "#m.score(X_train,y_train)"
      ]
    },
    {
      "cell_type": "code",
      "execution_count": null,
      "metadata": {
        "id": "4m1igjboDOUE"
      },
      "outputs": [],
      "source": [
        "#m2.score(X_train,y_train)"
      ]
    },
    {
      "cell_type": "markdown",
      "metadata": {
        "id": "xa7dUMCpBSDL"
      },
      "source": [
        "\n",
        "\n",
        "---\n",
        "\n",
        "**Custom example**\n",
        "\n",
        "---\n",
        "\n"
      ]
    },
    {
      "cell_type": "code",
      "execution_count": null,
      "metadata": {
        "id": "ITrFwtS8jy29"
      },
      "outputs": [],
      "source": [
        "example = [18.0,1.7,8.2,39.9,20.5,14.4,10.4]\n",
        "exa = pd.DataFrame(example).T\n",
        "exa.columns = ['Aluminum','Copper','Steel','Plastic','Li-ion battery','PCB','Flat panel glass']\n",
        "exa"
      ]
    },
    {
      "cell_type": "markdown",
      "metadata": {
        "id": "8kl36axJ7OBV"
      },
      "source": [
        "\n",
        "\n",
        "---\n",
        "\n",
        "**Custom example CO2 Emissions**\n",
        "\n",
        "---\n",
        "\n"
      ]
    },
    {
      "cell_type": "code",
      "execution_count": null,
      "metadata": {
        "id": "zcaFyZuajFp0"
      },
      "outputs": [],
      "source": [
        "y_exa = (m.predict(exa) + m2.predict(exa))/2\n",
        "print(\"CO2 Emission of example (in kgs):\",y_exa)"
      ]
    },
    {
      "cell_type": "markdown",
      "metadata": {
        "id": "yGDtmJBLPGjD"
      },
      "source": [
        "\n",
        "\n",
        "---\n",
        "\n",
        "\n",
        "\n",
        "---\n",
        "\n",
        "\n",
        "\n",
        "---\n",
        "\n"
      ]
    },
    {
      "cell_type": "markdown",
      "metadata": {
        "id": "gQNdmhSOQ_TY"
      },
      "source": [
        "\n",
        "\n",
        "---\n",
        "\n",
        "\n",
        "---\n",
        "\n",
        "\n",
        "\n",
        "---\n",
        "\n",
        "\n"
      ]
    },
    {
      "cell_type": "markdown",
      "metadata": {
        "id": "tKVEVpRt7KKc"
      },
      "source": [
        "\n",
        "\n",
        "---\n",
        "\n",
        "\n",
        "\n",
        "---\n",
        "\n",
        "\n",
        "\n",
        "---\n",
        "\n"
      ]
    },
    {
      "cell_type": "markdown",
      "metadata": {
        "id": "Vu88SwiegfKV"
      },
      "source": [
        "array([0.01124 , 0.000958, 0.00689 , 0.00301 , 0.00723 , 0.471   ,\n",
        "       0.00121 ])"
      ]
    },
    {
      "cell_type": "markdown",
      "metadata": {
        "id": "JwYJFZQaD1yr"
      },
      "source": [
        "Model = keras.Sequential([\n",
        "    layers.Dense(units = 128, activation='relu', input_shape=[7]),\n",
        "    layers.Dense(128, activation='relu'),\n",
        "    layers.Dense(64, activation='relu'),\n",
        "    layers.Dense(1),\n",
        "])\n",
        "Model"
      ]
    },
    {
      "cell_type": "markdown",
      "metadata": {
        "id": "X_Wdrqf9D4lT"
      },
      "source": [
        "\n",
        "\n",
        "---\n",
        "\n",
        "Model.compile(\n",
        "    optimizer='adam',\n",
        "    loss='mae',\n",
        ")"
      ]
    },
    {
      "cell_type": "markdown",
      "metadata": {
        "id": "pTMKHN_9D7vg"
      },
      "source": [
        "\n",
        "\n",
        "---\n",
        "history = Model.fit(\n",
        "    X_train, y_train,\n",
        "    validation_data=(X_test,y_test),\n",
        "    batch_size = 128,\n",
        "    epochs=10,\n",
        ")\n"
      ]
    }
  ],
  "metadata": {
    "colab": {
      "provenance": []
    },
    "kernelspec": {
      "display_name": "Python 3",
      "name": "python3"
    },
    "language_info": {
      "name": "python"
    }
  },
  "nbformat": 4,
  "nbformat_minor": 0
}